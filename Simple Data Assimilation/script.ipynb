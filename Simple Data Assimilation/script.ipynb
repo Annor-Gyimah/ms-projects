{
 "cells": [
  {
   "cell_type": "code",
   "execution_count": 1,
   "metadata": {},
   "outputs": [],
   "source": [
    "import numpy as np\n"
   ]
  },
  {
   "cell_type": "code",
   "execution_count": 2,
   "metadata": {},
   "outputs": [],
   "source": [
    "observations = np.array([15.2,16.1,14.5,15.8,25.0])\n",
    "model_data = np.array([14.8,15.5,14.0,16.0,25.3])"
   ]
  },
  {
   "cell_type": "code",
   "execution_count": 68,
   "metadata": {},
   "outputs": [
    {
     "name": "stdout",
     "output_type": "stream",
     "text": [
      "Observations:  [15.2 16.1 14.5 15.8 25. ]\n",
      "Model data [14.8 15.5 14.  16.  25.3]\n",
      "Filtered state estimates: [14.8        15.66666667 14.9375     15.47142857 21.36181818]\n"
     ]
    }
   ],
   "source": [
    "import numpy as np\n",
    "\n",
    "# Given data\n",
    "observations = np.array([15.2, 16.1, 14.5, 15.8, 25.0])\n",
    "model_data = np.array([14.8, 15.5, 14.0, 16.0, 25.3])\n",
    "\n",
    "# Initial estimates\n",
    "initial_state_estimate = model_data[0]\n",
    "initial_covariance_estimate = 1\n",
    "\n",
    "# Process and measurement noise\n",
    "process_noise = 1\n",
    "measurement_noise = 1\n",
    "\n",
    "# Number of measurements\n",
    "num_measurements = len(observations)\n",
    "\n",
    "# Arrays to store the results\n",
    "filtered_state_estimates = np.zeros(num_measurements)\n",
    "filtered_covariance_estimates = np.zeros(num_measurements)\n",
    "\n",
    "# Initial values\n",
    "filtered_state_estimates[0] = initial_state_estimate\n",
    "filtered_covariance_estimates[0] = initial_covariance_estimate\n",
    "\n",
    "for k in range(1, num_measurements):\n",
    "    # Prediction step\n",
    "    predicted_state_estimate = filtered_state_estimates[k-1]\n",
    "    predicted_covariance_estimate = filtered_covariance_estimates[k-1] + process_noise\n",
    "\n",
    "    # Update step\n",
    "    kalman_gain = predicted_covariance_estimate / (predicted_covariance_estimate + measurement_noise)\n",
    "    filtered_state_estimates[k] = predicted_state_estimate + kalman_gain * (observations[k] - predicted_state_estimate)\n",
    "    filtered_covariance_estimates[k] = (1 - kalman_gain) * predicted_covariance_estimate\n",
    "    #print(\"Filtered Covariance Estimates:\", filtered_covariance_estimates)\n",
    "    #print(\"predicted state estimates:\", predicted_state_estimate)\n",
    "\n",
    "# Print the results\n",
    "print(\"Observations: \", observations)\n",
    "print(\"Model data\", model_data)\n",
    "print(\"Filtered state estimates:\", filtered_state_estimates)\n"
   ]
  },
  {
   "cell_type": "code",
   "execution_count": 30,
   "metadata": {},
   "outputs": [],
   "source": [
    "observations = np.array([15.2, 16.1, 14.5, 15.8, 25.0])\n",
    "model_data = np.array([14.8, 15.5, 14.0, 16.0, 25.3])\n",
    "def KF(ub,w,H,R,B):\n",
    "    # The analysis step for the Kalman filter in the linear case\n",
    "    # i.e., linear model M and linear observation operator H\n",
    "    n = ub.shape[0]\n",
    "    # The state vector is ub, the control vector is w, the observation operator is H,\n",
    "    # the observation error covariance matrix is R, and the background error covariance matrix is B\n",
    "    # compute Kalman gain\n",
    "    D = H@B@H.T + R\n",
    "    K = B @ H @ np.linalg.inv(D)\n",
    "    # compute analysis\n",
    "    ua = ub + K @ (w-H@ub)\n",
    "    P = (np.eye(n) - K@H) @ B\n",
    "    return ua, P\n"
   ]
  },
  {
   "cell_type": "code",
   "execution_count": 67,
   "metadata": {},
   "outputs": [
    {
     "data": {
      "text/plain": [
       "0.625125"
      ]
     },
     "execution_count": 67,
     "metadata": {},
     "output_type": "execute_result"
    }
   ],
   "source": [
    "(1 - (5/8)) * 1.667"
   ]
  },
  {
   "cell_type": "code",
   "execution_count": 41,
   "metadata": {},
   "outputs": [
    {
     "data": {
      "text/plain": [
       "15.114284996"
      ]
     },
     "execution_count": 41,
     "metadata": {},
     "output_type": "execute_result"
    }
   ],
   "source": [
    "14.0+(0.61904722)*(15.8-14.0)"
   ]
  },
  {
   "cell_type": "code",
   "execution_count": 42,
   "metadata": {},
   "outputs": [
    {
     "data": {
      "text/plain": [
       "14.875"
      ]
     },
     "execution_count": 42,
     "metadata": {},
     "output_type": "execute_result"
    }
   ],
   "source": [
    "15.5+(0.625)*(14.5-15.5)"
   ]
  }
 ],
 "metadata": {
  "kernelspec": {
   "display_name": "base",
   "language": "python",
   "name": "python3"
  },
  "language_info": {
   "codemirror_mode": {
    "name": "ipython",
    "version": 3
   },
   "file_extension": ".py",
   "mimetype": "text/x-python",
   "name": "python",
   "nbconvert_exporter": "python",
   "pygments_lexer": "ipython3",
   "version": "3.11.3"
  }
 },
 "nbformat": 4,
 "nbformat_minor": 2
}
