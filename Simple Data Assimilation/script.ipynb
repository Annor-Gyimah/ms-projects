{
 "cells": [
  {
   "cell_type": "code",
   "execution_count": 6,
   "metadata": {},
   "outputs": [],
   "source": [
    "import numpy as np\n"
   ]
  },
  {
   "cell_type": "markdown",
   "metadata": {},
   "source": [
    "# DATA ASSIMILATION PROCESS"
   ]
  },
  {
   "cell_type": "code",
   "execution_count": 7,
   "metadata": {},
   "outputs": [],
   "source": [
    "observations = np.array([15.2,16.1,14.5,15.8,25.0])\n",
    "model_data = np.array([14.8,15.5,14.0,16.0,25.3])"
   ]
  },
  {
   "cell_type": "code",
   "execution_count": 9,
   "metadata": {},
   "outputs": [
    {
     "name": "stdout",
     "output_type": "stream",
     "text": [
      "Observations:  [15.2 16.1 14.5 15.8 25. ]\n",
      "Model data [14.8 15.5 14.  16.  25.3]\n",
      "Filtered state estimates: [14.8        15.66666667 14.9375     15.47142857 21.36181818]\n"
     ]
    }
   ],
   "source": [
    "\n",
    "# Initial estimates\n",
    "initial_state_estimate = model_data[0]\n",
    "initial_covariance_estimate = 1\n",
    "\n",
    "# Process and measurement noise\n",
    "process_noise = 1\n",
    "measurement_noise = 1\n",
    "\n",
    "# Number of measurements\n",
    "num_measurements = len(observations)\n",
    "\n",
    "# Arrays to store the results\n",
    "filtered_state_estimates = np.zeros(num_measurements)\n",
    "filtered_covariance_estimates = np.zeros(num_measurements)\n",
    "\n",
    "# Initial values\n",
    "filtered_state_estimates[0] = initial_state_estimate\n",
    "filtered_covariance_estimates[0] = initial_covariance_estimate\n",
    "\n",
    "for k in range(1, num_measurements):\n",
    "    # Prediction step\n",
    "    predicted_state_estimate = filtered_state_estimates[k-1]\n",
    "    predicted_covariance_estimate = filtered_covariance_estimates[k-1] + process_noise\n",
    "\n",
    "    # Update step\n",
    "    kalman_gain = predicted_covariance_estimate / (predicted_covariance_estimate + measurement_noise)\n",
    "    filtered_state_estimates[k] = predicted_state_estimate + kalman_gain * (observations[k] - predicted_state_estimate)\n",
    "    filtered_covariance_estimates[k] = (1 - kalman_gain) * predicted_covariance_estimate\n",
    "    \n",
    "\n",
    "# Print the results\n",
    "print(\"Observations: \", observations)\n",
    "print(\"Model data\", model_data)\n",
    "print(\"Filtered state estimates:\", filtered_state_estimates)\n"
   ]
  },
  {
   "cell_type": "markdown",
   "metadata": {},
   "source": [
    "# ANALYSIS AND COMPARISONS"
   ]
  },
  {
   "cell_type": "code",
   "execution_count": null,
   "metadata": {},
   "outputs": [],
   "source": []
  },
  {
   "cell_type": "code",
   "execution_count": null,
   "metadata": {},
   "outputs": [],
   "source": []
  },
  {
   "cell_type": "code",
   "execution_count": null,
   "metadata": {},
   "outputs": [],
   "source": []
  },
  {
   "cell_type": "code",
   "execution_count": null,
   "metadata": {},
   "outputs": [],
   "source": []
  }
 ],
 "metadata": {
  "kernelspec": {
   "display_name": "base",
   "language": "python",
   "name": "python3"
  },
  "language_info": {
   "codemirror_mode": {
    "name": "ipython",
    "version": 3
   },
   "file_extension": ".py",
   "mimetype": "text/x-python",
   "name": "python",
   "nbconvert_exporter": "python",
   "pygments_lexer": "ipython3",
   "version": "3.11.3"
  }
 },
 "nbformat": 4,
 "nbformat_minor": 2
}
